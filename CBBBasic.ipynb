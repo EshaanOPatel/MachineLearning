{
  "nbformat": 4,
  "nbformat_minor": 0,
  "metadata": {
    "colab": {
      "name": "CBBBasic.ipynb",
      "provenance": [],
      "include_colab_link": true
    },
    "kernelspec": {
      "name": "python3",
      "display_name": "Python 3"
    },
    "language_info": {
      "name": "python"
    }
  },
  "cells": [
    {
      "cell_type": "markdown",
      "metadata": {
        "id": "view-in-github",
        "colab_type": "text"
      },
      "source": [
        "<a href=\"https://colab.research.google.com/github/EshaanOPatel/MachineLearning/blob/main/CBBBasic.ipynb\" target=\"_parent\"><img src=\"https://colab.research.google.com/assets/colab-badge.svg\" alt=\"Open In Colab\"/></a>"
      ]
    },
    {
      "cell_type": "markdown",
      "source": [
        "Import Libraries"
      ],
      "metadata": {
        "id": "J5QZFEJ-UlnS"
      }
    },
    {
      "cell_type": "code",
      "source": [
        "import os\n",
        "import numpy as np\n",
        "import pandas as pd\n",
        "import matplotlib.pyplot as plt\n",
        "import tensorflow as tf\n",
        "import seaborn as sns\n",
        "from sklearn.metrics import mean_absolute_error"
      ],
      "metadata": {
        "id": "DXT17uWVUQPt"
      },
      "execution_count": null,
      "outputs": []
    },
    {
      "cell_type": "markdown",
      "source": [
        "Load Data"
      ],
      "metadata": {
        "id": "65TiC6oAT_z_"
      }
    },
    {
      "cell_type": "code",
      "execution_count": null,
      "metadata": {
        "id": "OuA7HEmP6pyX",
        "colab": {
          "base_uri": "https://localhost:8080/"
        },
        "outputId": "fcf4b7e7-f239-4d95-8e70-db95e26d4af5"
      },
      "outputs": [
        {
          "output_type": "execute_result",
          "data": {
            "text/plain": [
              "((300,), (300, 8), (54,), (54, 8))"
            ]
          },
          "metadata": {},
          "execution_count": 118
        }
      ],
      "source": [
        "cbb_raw_data = pd.read_csv('/content/cbb.csv')\n",
        "cbb_data = cbb_raw_data[['EFG_O','EFG_D','TOR','TORD','ORB','DRB','FTR','FTRD']]\n",
        "y_train = cbb_raw_data.iloc[0:300, 3] \n",
        "x_train = cbb_data.iloc[0:300, :]\n",
        "y_test = cbb_raw_data.iloc[300:354, 3]\n",
        "x_test = cbb_data.iloc[300:354, :]\n",
        "y_train.shape, x_train.shape, y_test.shape, x_test.shape"
      ]
    },
    {
      "cell_type": "markdown",
      "source": [
        "Process Data: Normalize Features, Rescale Target"
      ],
      "metadata": {
        "id": "BL01rNeBfTKo"
      }
    },
    {
      "cell_type": "code",
      "source": [
        "# normalize features\n",
        "x_train = (x_train - x_train.mean())/x_train.std()\n",
        "x_test = (x_test - x_test.mean())/x_test.std()\n",
        "\n",
        "# rescale target\n",
        "#y_train = y_train/y_train.max()\n",
        "#y_test = y_test/y_test.max()"
      ],
      "metadata": {
        "id": "WKkF2H2lfYQy"
      },
      "execution_count": null,
      "outputs": []
    },
    {
      "cell_type": "markdown",
      "source": [
        "##Model 1: Linear Regression "
      ],
      "metadata": {
        "id": "3hODFWFiUOCw"
      }
    },
    {
      "cell_type": "code",
      "source": [
        "#Build Model\n",
        "#model = tf.keras.models.Sequential()\n",
        "#model.add(tf.keras.layers.Dense(1, input_shape=[8]))"
      ],
      "metadata": {
        "id": "HSKvHRCFgDpY"
      },
      "execution_count": null,
      "outputs": []
    },
    {
      "cell_type": "markdown",
      "source": [
        "##Model 2: Neural Network\n"
      ],
      "metadata": {
        "id": "qlxQ8jCjT94T"
      }
    },
    {
      "cell_type": "code",
      "source": [
        "#Build Model\n",
        "model = tf.keras.models.Sequential()\n",
        "model.add(tf.keras.layers.Dense(256, input_shape=[8]))\n",
        "model.add(tf.keras.layers.Dense(64, activation=\"relu\"))\n",
        "model.add(tf.keras.layers.Dense(16, activation=\"relu\"))\n",
        "model.add(tf.keras.layers.Dense(1))"
      ],
      "metadata": {
        "id": "qDqtKoMcgVPk"
      },
      "execution_count": null,
      "outputs": []
    },
    {
      "cell_type": "markdown",
      "source": [
        "##Testing\n"
      ],
      "metadata": {
        "id": "wM3qidNwqKg5"
      }
    },
    {
      "cell_type": "code",
      "source": [
        "#compile\n",
        "model.compile(loss='mse', optimizer='sgd')"
      ],
      "metadata": {
        "id": "AjLZITEEp9Nl"
      },
      "execution_count": null,
      "outputs": []
    },
    {
      "cell_type": "code",
      "source": [
        "#train model\n",
        "model.fit(\n",
        "    x=x_train, # features\n",
        "    y=y_train, # target\n",
        "    validation_split=0.2, #20% cross validation\n",
        "    epochs=10\n",
        ")"
      ],
      "metadata": {
        "colab": {
          "base_uri": "https://localhost:8080/"
        },
        "id": "X3XwNwUWp_M7",
        "outputId": "f4ae1175-ec41-4f7e-cc4d-175ee3073de4"
      },
      "execution_count": null,
      "outputs": [
        {
          "output_type": "stream",
          "name": "stdout",
          "text": [
            "Epoch 1/10\n",
            "8/8 [==============================] - 1s 22ms/step - loss: 227.6070 - val_loss: 90.0438\n",
            "Epoch 2/10\n",
            "8/8 [==============================] - 0s 5ms/step - loss: 286.2681 - val_loss: 417.7062\n",
            "Epoch 3/10\n",
            "8/8 [==============================] - 0s 6ms/step - loss: 429.0243 - val_loss: 129.6065\n",
            "Epoch 4/10\n",
            "8/8 [==============================] - 0s 5ms/step - loss: 240.5559 - val_loss: 90.4264\n",
            "Epoch 5/10\n",
            "8/8 [==============================] - 0s 5ms/step - loss: 195.1995 - val_loss: 66.7484\n",
            "Epoch 6/10\n",
            "8/8 [==============================] - 0s 6ms/step - loss: 160.8471 - val_loss: 49.4469\n",
            "Epoch 7/10\n",
            "8/8 [==============================] - 0s 6ms/step - loss: 134.7246 - val_loss: 37.4610\n",
            "Epoch 8/10\n",
            "8/8 [==============================] - 0s 6ms/step - loss: 115.5548 - val_loss: 30.3067\n",
            "Epoch 9/10\n",
            "8/8 [==============================] - 0s 5ms/step - loss: 102.2774 - val_loss: 26.1815\n",
            "Epoch 10/10\n",
            "8/8 [==============================] - 0s 5ms/step - loss: 92.7963 - val_loss: 23.9105\n"
          ]
        },
        {
          "output_type": "execute_result",
          "data": {
            "text/plain": [
              "<keras.callbacks.History at 0x7f9b1fae4910>"
            ]
          },
          "metadata": {},
          "execution_count": 123
        }
      ]
    },
    {
      "cell_type": "code",
      "source": [
        "#Evaluate model using Mean Absolute Error\n",
        "prediction = model.predict(x_test)\n",
        "print(\"MAE=\")\n",
        "mean_absolute_error(y_true=y_test, y_pred=prediction)"
      ],
      "metadata": {
        "colab": {
          "base_uri": "https://localhost:8080/"
        },
        "id": "Rikds2aVqDIW",
        "outputId": "6f0db638-ab7f-467f-e1bc-ffbbdb1a7977"
      },
      "execution_count": null,
      "outputs": [
        {
          "output_type": "stream",
          "name": "stdout",
          "text": [
            "MAE=\n"
          ]
        },
        {
          "output_type": "execute_result",
          "data": {
            "text/plain": [
              "3.7605868445502386"
            ]
          },
          "metadata": {},
          "execution_count": 124
        }
      ]
    },
    {
      "cell_type": "code",
      "source": [
        "print(\"MSE\")\n",
        "model.evaluate(x_test,y_test)"
      ],
      "metadata": {
        "colab": {
          "base_uri": "https://localhost:8080/"
        },
        "id": "RZTftxsz7s9k",
        "outputId": "3843dd29-d9b5-4059-d145-4fd656f9bd6e"
      },
      "execution_count": null,
      "outputs": [
        {
          "output_type": "stream",
          "name": "stdout",
          "text": [
            "MSE\n",
            "2/2 [==============================] - 0s 5ms/step - loss: 21.1232\n"
          ]
        },
        {
          "output_type": "execute_result",
          "data": {
            "text/plain": [
              "21.123239517211914"
            ]
          },
          "metadata": {},
          "execution_count": 125
        }
      ]
    },
    {
      "cell_type": "markdown",
      "source": [
        "Conclusion\n",
        "\n",
        "| Model | Epochs |MSE |MAE|\n",
        "|  ---  |  ---   | ---  | --- |\n",
        "| Linear Regression | 10 |9.43|2.49|\n",
        "|Linear Regression|50|17.46|3.43|\n",
        "|[128,32]|10|10.99|2.57|\n",
        "|[256,64]|10|40.09|5.24|\n",
        "|[256,64,16]|10|21.12|3.76|"
      ],
      "metadata": {
        "id": "0qQDAnKa7S6S"
      }
    }
  ]
}